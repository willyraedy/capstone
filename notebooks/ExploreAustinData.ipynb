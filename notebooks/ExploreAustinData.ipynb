{
 "cells": [
  {
   "cell_type": "code",
   "execution_count": 3,
   "metadata": {},
   "outputs": [],
   "source": [
    "import pandas as pd"
   ]
  },
  {
   "cell_type": "code",
   "execution_count": 4,
   "metadata": {},
   "outputs": [],
   "source": [
    "austin_df = pd.read_csv('../data/raw/bq-results-20200312-211148-2vjva2pqyvwg.csv')"
   ]
  },
  {
   "cell_type": "code",
   "execution_count": 9,
   "metadata": {},
   "outputs": [
    {
     "name": "stdout",
     "output_type": "stream",
     "text": [
      "<class 'pandas.core.frame.DataFrame'>\n",
      "RangeIndex: 64527 entries, 0 to 64526\n",
      "Data columns (total 8 columns):\n",
      " #   Column               Non-Null Count  Dtype  \n",
      "---  ------               --------------  -----  \n",
      " 0   id                   64527 non-null  object \n",
      " 1   permalink            64527 non-null  object \n",
      " 2   title                64527 non-null  object \n",
      " 3   created_utc          64527 non-null  object \n",
      " 4   win_pred_ever        64527 non-null  bool   \n",
      " 5   relevance_pred_ever  64527 non-null  bool   \n",
      " 6   ccl_comments_count   64527 non-null  int64  \n",
      " 7   ccl_score_sum        47 non-null     float64\n",
      "dtypes: bool(2), float64(1), int64(1), object(4)\n",
      "memory usage: 3.1+ MB\n"
     ]
    }
   ],
   "source": [
    "austin_df.info()"
   ]
  },
  {
   "cell_type": "code",
   "execution_count": 10,
   "metadata": {},
   "outputs": [
    {
     "data": {
      "text/plain": [
       "False    60048\n",
       "True      4479\n",
       "Name: win_pred_ever, dtype: int64"
      ]
     },
     "execution_count": 10,
     "metadata": {},
     "output_type": "execute_result"
    }
   ],
   "source": [
    "austin_df.win_pred_ever.value_counts()"
   ]
  },
  {
   "cell_type": "code",
   "execution_count": 18,
   "metadata": {},
   "outputs": [
    {
     "data": {
      "text/plain": [
       "0.07459032773780976"
      ]
     },
     "execution_count": 18,
     "metadata": {},
     "output_type": "execute_result"
    }
   ],
   "source": [
    "4479 / 60048"
   ]
  },
  {
   "cell_type": "code",
   "execution_count": 16,
   "metadata": {},
   "outputs": [
    {
     "name": "stdout",
     "output_type": "stream",
     "text": [
      "Nurses on Front Lines of Coronavirus Pandemic Demand Medicare for All\n",
      "Anger erupts at U.N. climate summit as major economies resist bold action\n",
      "California celebrates 1 million solar roofs - Arnold Schwarzenegger: “13 years ago, we set a huge goal: to build a million solar roofs in our state by 2019... Today, we celebrate the vision and the hardworking Californians that made a million solar roofs a reality.”\n",
      "Melania Trump Thinks Greta Thunberg Had POTUS Attack Coming | Apparently speaking out against climate change means the 16 year-old should expect to be mocked by world leaders.\n",
      "President Trump rolling back over 80 environmental regulations\n",
      "Climate change: Major emitters accused of blocking progress at UN talks\n",
      "On land, Australia’s rising heat is ‘apocalyptic.’ In the ocean, it’s even worse\n",
      "10 Years Of Canadian Climate (In)Action Shows We Didn't Get Much Done\n",
      "Scientist have found the deepest point on earth under Antarctica.\n",
      "Ethiopia undertook a major national reforestation programme this year, with the ambitious target of planting four billion trees in just three months. The highlight was a single day in July, on which people across the country turned out to help with planting 350 million tree seedlings.\n",
      "Sanders: Instead of weapons funding we should pool resources to fight climate change - “Maybe, just maybe, instead of spending $1.8 trillion a year globally on weapons of destruction... maybe we pool our resources and fight our common enemy, which is climate change.”\n",
      "The Netherlands has to slash greenhouse gas emissions by 25 percent by next year under ruling issued by country's Supreme Court, which said global warming poses “great dangers to life on earth.” Dutch NGO Urgenda said the decision would likely compel the government to close coal-fired power plants.\n",
      "Tens of thousands protest Australian PM's climate policies amid bushfire crisis\n",
      "Australian PM Abruptly Ends Press Conference After Sustained Q's On Climate Change\n",
      "Pervasive human-driven decline of life on Earth points to the need for transformative change\n",
      "'Saving Life on Earth' for Just $100 Billion: New Roadmap Shows How US Can Address Global Extinction Crisis | The plan calls for the president to declare the global extinction crisis a national emergency and establish 500 new national parks, wildlife refuges, and marine sanctuaries.\n",
      "A group of eight trade organizations that collectively represent 90% of the world’s merchant fleet have proposed a collaborative shipping research and development program to help eliminate CO2 emissions from international shipping.\n",
      "Merkel Vows Germany Will Do 'Everything Humanly Possible' To Fight Climate Change\n",
      "Teenage climate change activist Greta Thunberg said on Monday that talking to Trump at a UN summit on global warming would have been a waste of time since he would not have paid any attention.\n",
      "Putin defends Trump on 'far-fetched' impeachment, sounds like a Republican\n",
      "ExxonMobil Wishes Australia a 'Fun' New Year as Country Burns in Climate Crisis\n",
      "Craig Kelly interview: Piers Morgan calls MP 'disgraceful' for denying climate link to bushfires - In Good Morning Britain appearance Australian Liberal MP accuses other politicians of trying to exploit tragedy\n",
      "Genetically Modifying Trees To Prevent Air Pollution Proves Successful\n",
      "Patel (UK Home Secretary) defends police over Extinction Rebellion inclusion on extremist list\n",
      "Air pollution exposure may make our bones become weaker, suggests a new study in India (n=3,717), which found lower bone mineral content with increasing levels of air pollution. The number of health effects linked to air pollution keeps growing.\n",
      "Amazon threatens to fire employees for campaigning against climate change\n",
      "Climate advocates call for fossil fuel companies to foot Australia fires bill\n",
      "Coal stokes Aussie bushfire rage — Protests grow against Australia’s handling of bushfire crisis. Leaders refuse to reverse their climate policies. DW’s Ben Fajzullin says politicians are blinded by mining fortunes. The globe's biggest exporter of dirty black stuff has powered China's meteoric rise.\n",
      "As the day unfolded a 'mega-fire' the size of 600,000 hectares forms after multiple blazes merge\n",
      "Plant life 'expanding over the Himalayas'\n",
      "Michelle Obama sends Greta Thunberg message of support after Trump tweet. Former first lady told climate activist ‘don’t let anyone dim your light’ after Trump said teen had an ‘anger management problem’\n",
      "The Fleecing of Millennials - Their incomes are flat. Their wealth is down. And Washington is aggravating future threats.\n",
      "'This Is a Big Deal': Goldman Sachs Rules Out Funding New Coal Projects, Arctic Oil Drilling | \"The smart money on Wall Street is drawing red lines on oil and gas, and exiting coal.\"\n",
      "The Arctic may have crossed key threshold, emitting billions of tons of carbon into the air, in a long-dreaded climate feedback\n",
      "Observers Mystified After Trump Delivers 'Moronic' and 'Unhinged' Diatribe Against Wind Power\n",
      "One of the nation’s biggest school systems will let students take time off to protest. The conservative backlash has begun.\n",
      "How Oil Companies Avoided Environmental Accountability After 10.8 Million Gallons Spilled\n",
      "2019 has been the best year in global history. Child mortality is at its lowest ever. Every day 170,000 people moved out of extreme poverty, 325,000 people got their first access to electricity, 200,000 got piped water for the first time &amp; 650,000 went online\n",
      "Ireland: New laws to ban sale of new petrol and diesel cars by 2030\n",
      "Sanders: Instead of weapons funding we should pool resources to fight climate change\n",
      "Water Thieves Steal 80,000 Gallons in Australia as Our Mad Max-Style Future Becomes Reality\n",
      "‘Heartbreaking’: 480,000,000 Animals Feared Dead in Aussie Fires\n",
      "Water Thieves Steal 80,000 Gallons in Australia as Our Mad Max-Style Future Becomes Reality\n",
      "Greta Thunberg tells world leaders to end fossil fuel ‘madness’ - “The world’s leaders should invest their money in existing sustainable technologies, research and in restoring nature. Short-term profit should not trump long-term stability of life.”\n",
      "Petrol and diesel car and vehicles will be banned from all roads across the West Midlands (U.K) in 20 years time. The plan also includes the creation of a national park and that a new tree will be planted for each of the near three million people living in the region.\n",
      "News Corp employee lashes climate 'misinformation' in bushfire coverage with blistering reply-all email to executive chairman | “I find it unconscionable to continue working for this company, knowing I am contributing to the spread of climate change denial and lies.\"\n",
      "The US, Japan, and Australia let the whole world down at the UN climate talks: The wealthy countries that are some of the biggest emitters continue to thwart agreements on critical issues\n",
      "Queen Elizabeth Hails Young Climate Activists In Christmas Speech: “The challenges people face today may be different to those once faced by my generation,but I have been struck by how new generations have brought a similar sense of purpose to issues such as protecting our environment &amp; our climate”\n",
      "Elon Musk-backed Team Trees campaign meets $20 million goal\n",
      "Metallica donated almost as much to the [Australia] n Bushfire Recovery as the richest man alive.\n",
      "Quorn, the biggest meat alternative brand in the world, is introducing carbon footprint data for its top 30 selling products. The new labelling will better inform people who want to understand the environmental impact of the foods they buy\n",
      "A group of eight trade organizations that collectively represent 90% of the world’s merchant fleet have proposed a collaborative shipping research and development program to help eliminate CO2 emissions from international shipping.\n",
      "2019 has been the best year in global history. Child mortality is at its lowest ever. Every day 170,000 people moved out of extreme poverty, 325,000 people got their first access to electricity, 200,000 got piped water for the first time &amp;amp; 650,000 went online\n",
      "Amazon threatened to fire employees for speaking out on climate, workers say.\n",
      "The hemp plant takes 3 to 4 months to grow to full maturity compared to trees which can take anywhere from 20 – 80 years. Astonishingly one acre of hemp can produce the same amount of fibre as one acre of trees grown over 5 years! by moving to hemp we can ultimately reverse deforestation.\n",
      "Australian climate change study from 12 years ago warned of intense fire seasons\n",
      "The World Has a Plan to Rein in AI—but the US Doesn’t Like It - US officials worry the proposal could unnecessarily slow development of artificial intelligence at American companies.\n",
      "Evidence from a new study indicates that supposedly safe levels of air pollution can actually be deadly. The research links the deaths of 200,000 military veterans to long-term exposure to ultra-fine particle pollution at levels below current Environmental Protection Agency acceptable limits.\n",
      "Australian Prime Minister Morrison has suffered a massive hit to his personal approval rating and been overtaken as preferred prime minister by Anthony Albanese in the first published opinion poll of 2020\n",
      "Trump to remove climate change factors from environmental laws around major infrastructure projects - Revised law allows federal agencies to overlook environmental impact\n",
      "Experts Say Vast Deserts, Absence Of Life, May Indicate Mars Was Once Run By Conservatives\n",
      "Right wing trolls and bot accounts are spreading false information about the cause of the Australian bush fires to shift blame away from climate change. Some are even blaming \"ecoterrorists\". Arson is the cause of less than 1% of hectares burnt.\n",
      "More Than One Billion Animals Have Been Killed in Australia’s Wildfires, Scientist Estimates\n",
      "Trump has created a loophole to allow pipelines to avoid environmental review - It’s one of the biggest deregulatory changes to the 50-year-old National Environmental Policy Act in nearly three decades.\n",
      "How Rupert Murdoch Is Influencing Australia’s Bushfire Debate\n",
      "London has spent billions, but no one can escape climate change\n",
      "'Australian Prime Minister response to Greta Thunberg’s bushfires tweet: ‘ i’m not here to try and impress people overseas’\n",
      "Moscow resorts to fake snow in warmest December since 1886\n",
      "Trump reportedly blamed Ukraine for election interference because 'Putin told me'\n",
      "Teamtrees officially pass the goal of 20 million dollars.\n",
      "Joaquin Phoenix, Martin Sheen Among Those Arrested As Jane Fonda Leads Final D.C. Climate Protest\n",
      "The world must eradicate pesticide use, prioritise nature-based farming methods and urgently reduce water, light and noise pollution to save plummeting insect populations, according to a new “roadmap to insect recovery” compiled by experts.\n",
      "Goldman Sachs Pledges $750 Billion to Climate Transition Projects, Will No Longer Fund Oil Exploration in the Arctic\n",
      "Australia bushfires spark 'unprecedented' climate disinformation | Conservative-leaning newspapers, websites and politicians across the globe have promoted the theory arson is largely to blame. \"This is a global campaign with the purpose to discredit scientific evidence of climate change.\"\n",
      "Australia is on fire, literally — and so are its climate politics\n",
      "Older men who oppose Greta Thunberg do so \"because they know she's right,\" says \"biggest fan\" Al Gore\n",
      "Scientists say the global temperature is going to rise by 1.5 degrees Celsius in about 10 years.\n",
      "Trump is rolling back over 80 environmental regulations. Here are five big changes you might have missed in 2019\n",
      "When it comes to heat in the top 2,000m of the ocean, 2019 was not only the warmest year on record, it displayed the largest single-year increase of the entire decade, a sobering reminder that human-caused heating of our planet continues unabated\n",
      "The British royal family has made a dramatic intervention over the impact of climate change, warning Earth is at a \"tipping point\" and urging the world to lift its game over the next decade.\n",
      "Greta Thunberg Says She “Wouldn’t Have Wasted My Time” Talking Climate Change with Trump: “Obviously he's not listening to scientists and experts, so why would he listen to me?”\n",
      "Thousands of people have fled apocalyptic scenes, abandoning their homes and huddling on beaches to escape raging columns of flame and smoke that have plunged whole towns into darkness and destroyed more than 4m hectares of land.\n",
      "World Bank urged to rethink investment in one of Brazil's big beef companies over concerns of illegal cattle farming in the Amazon Rainforest\n",
      "A Native American tribe has insulated itself from California’s blackouts by creating a microgrid utility, illustrating a future way forward for small communities to switch to renewables\n",
      "'This is war': actor Yael Stone gives up US green card and will now live in Australia to fight climate change: Orange is the New Black star says the air travel needed for a life in two continents is ‘environmentally unjust’\n",
      "Shutdown of Coal-Fired Plants in U.S. Saves Lives and Improves Crop Yields. Research found that between 2005 and 2016, the shutdown of coal-fired units saved an estimated 26,610 lives and 570 million bushels of corn, soybeans and wheat in their immediate vicinities\n",
      "States charge more for electric cars, to make up for the lost gas tax.\n",
      "Australia Will Lose to Climate Change\n",
      "Australia bushfires: Greta Thunberg blasts Australian leaders for lack of 'political action' | Newshub\n",
      "Amid Bushfires, Australian PM posted donation link not to firefighters but to his party\n",
      "Wildfires in Australia create a smoke cloud larger than the continental United States! It can be seen from space as it circles the hemisphere, covering over 12.000km!\n",
      "66 Die After Flooding in Indonesia's Sinking Capital City. Here's What to Know\n",
      "Youth-led climate group endorses Sanders for president\n",
      "Iran believed to have deliberately missed U.S. forces in Iraq strikes says sources.\n",
      "Online bots are actively spreading false information to steer the blame for the Australian fires away from climate change\n",
      "Australia bushfires: Smoke drifts as far as South America\n",
      "A season in hell: Australia bushfires push at least 20 threatened species closer to extinction\n",
      "‘I never understood wind’: US president goes on bizarre tirade against wind turbines, which may have significant implications for the future of wind energy in the US\n",
      "Australian bushfires have already burned down almost 10 million acres\n",
      "A Methane Leak, Seen From Space, Proves to Be Far Larger Than Thought - The Ohio blowout released more methane than the reported emissions of the oil and gas industries of countries like Norway and France\n",
      "World's oldest fossil trees uncovered in New York\n",
      "Australia claims 14 of the 15 hottest places in the world as heatwave continues\n",
      "Plastic drinking straws got a lot of attention last year—but it was discarded fishing gear that deserves most of the blame for killing marine life.\n",
      "Climate change now detectable from any single day of weather at global scale\n",
      "The Australian: Murdoch-owned newspaper accused of downplaying bushfires in favour of picnic races\n",
      "Scott Morrison railed against environmental protesters on Friday, warning of a “new breed of radical activism” that was “apocalyptic in tone” and pledging to outlaw boycott campaigns that he argued could hurt the country’s mining industry.\n",
      "Get ready for tens of millions of climate refugees\n",
      "Once again climate models shown to be way too conservative. Four new studies show the ocean is warming 40% faster than the IPCC predicted. Mass fish die off, coral reef death, rising sea levels and more destructive hurricanes expected. 2018 was warmest year on record, as was 2017, as was 2016.\n",
      "How Rupert Murdoch is influencing Australia’s bushfire debate\n",
      "Ocean acidification from climate change damages shark scales and potentially limits their ability to swim. As shark teeth are structurally and materially identical with their scales, chemical dissolution of their teeth at a similar rate is expected.\n",
      "Oceans are warming at the same rate as if 5 Hiroshima bombs were dropped in every second | Study says that while the oceans warmed steadily between 1955 and 1986, warming has accelerated rapidly in the last few decades. Between 1987-2019, ocean warming was 450% greater than during the earlier period\n",
      "German Chancellor Angela Merkel says she is fighting climate change with all her strength to enable future generations to live in peace and prosperity. \"Global warming is real. It is threatening,\"\n",
      "Mazda wrongly says long-range EVs are worse for CO2 than diesel cars\n",
      "Summary of daily global mean temperature in 2019 [OC]\n",
      "Scientists have found \"supercorals\" in Hawaii’s Kāne’ohe Bay, where a reef is thriving despite development, dredging, sewage and high temperatures. In the lab, the corals also withstood simulated climate change, including rising acidity and temps. The find could offer hope for the future of corals.\n",
      "24 Australians arrested for deliberately setting fires this season\n",
      "Bots and trolls spread false arson claims in Australian fires ‘disinformation campaign’\n",
      "Siemens to support Australian coal project despite protests\n",
      "Australian prime minister's approval rating slumps as bushfires rage\n",
      "New Data Shows Solar Energy Creates More Jobs in America Than Any Other Industry\n",
      "Greta Thunberg thanks broadcaster Sir David Attenborough for inspiring her. Sir David, 93, described the impact she has made as \"astonishing,\" adding: \"She has achieved things that many of us who have been working on it for 20-odd years have failed to achieve and that is you have aroused the world.\"\n",
      "World’s richest 10% produce half of carbon emissions while poorest 3.5 billion account for just a tenth\n",
      "London, New York city mayors urge cities to divest from fossil fuels | “Any organization committed to operating responsibly in this new decade has a moral imperative to stop participating in financing the destruction of human civilization’s future,” they said in a statement\n",
      "Mining billionaire Andrew Forrest pledges $70 million fire relief and recovery donation (Australia)\n",
      "Climate Watchdog Warns US Fracking Boom Leading to 30% Rise in Greenhouse Gas Emissions by 2025 | \"This analysis shows that we're heading in the wrong direction and really need to slow emissions growth from the oil, gas, and petrochemical industries.\"\n",
      "'Okay, Merry Christmas Everyone,' Says McConnell After Admitting GOP Has Zero Plan to Address Climate Crisis\n",
      "President Trump rolling back over 80 environmental regulations\n",
      "The Blood Pipe Is Still Spewing Blood After Nearly Two Years. Newly-obtained footage shows the underwater fish farm pipe in British Columbia is still churning out virus-infected blood and guts.\n",
      "Goldman Sachs on Monday announced its plan to invest $750 billion over 10 years to fight climate change by funding sustainable development. Goldman Sachs plans to invest in five areas: clean energy, sustainable transportation, food and agriculture, waste and materials, and ecosystem services\n",
      "Australia’s Government has changed the official greenhouse gas records so Prime Minister Scott Morrison can claim emissions are now lower than when elected in 2013 AND adjusted historical records so emissions under previous Labour government are now significantly higher than previously reported.\n",
      "Chinese company approved to run water mining operation in drought-stricken Queensland, as nearby residents placed on water restrictions and face risk of running dry. The company plans to send the water to a bottling plant.\n",
      "Nearly 1,100 scientists, practitioners and experts in groundwater and related fields from 92 countries have called on the governments and non-governmental agencies to \"act now\" to ensure global groundwater sustainability.\n",
      "Chinese company approved to run water mining operation in drought-stricken Queensland, as nearby residents placed on water restrictions and face risk of running dry. The company plans to send the water to a bottling plant. The future of the privatization of water is here today.\n",
      "Cattle have stopped breeding, koalas die of thirst: A vet's hellish diary of climate change - \"Bulls cannot breed at Inverell. They are becoming infertile from their testicles overheating. Mares are not falling pregnant, and through the heat, piglets and calves are aborting.\"\n",
      "Australia bushfires: Sydney suburb is 'hottest place on earth' as heat creates storms\n",
      "Australia’s prime minister pledges to outlaw climate boycotts, arguing they threaten the economy\n",
      "Australia is burning. The Arctic is melting. Yet Trump keeps gutting climate change regulations.\n",
      "Study Confirms Climate Models are Getting Future Warming Projections Right\n",
      "Despite everything, U.S. emissions dipped in 2019. Coal has been in a slow-motion death spiral over the past ten years. The country now generates half as much coal-fired electricity as it did in 2009. And that trend continued through last year, as coal generation slid 18 percent.\n",
      "Senegal is constructing West Africa’s largest wind farm that will supply 158MW of electricity to 2 million people\n",
      "‘Dumbest’ Trump Lie Of 2020: White House Nailed Over Bizarre Weather Tweet; The White House faces a blizzard of criticism after tweeting about nonexistent snow.\n",
      "New laws to ban sale of petrol and diesel cars - The Irish government is drafting new laws which would ban new petrol and diesel car registrations by 2030, as part of a strategy to protect the environment.\n",
      "US atomic waste dump in Marshall Islands to be investigated\n",
      "Prince William launches new environmental prize to help 'repair' planet as he warns Earth is at 'tipping point' — A short video on the official Kensington Palace Twitter page, voiced by Sir David Attenborough, marks the launch of the \"most prestigious environment prize in history.\"\n",
      "The North Atlantic Current may cease temporarily in the next century. It transports warm water from the Gulf of Mexico towards Europe, providing north-western Europe with a relatively mild climate. There is a 15% likelihood that there will be a temporary change in the current in the next 100 years.\n",
      "Trump's Environmental Proposals So Bad His Own Science Board Is Against Them\n",
      "Bill Gates Now Calling For Higher Taxes\n",
      "Israel green lights hundreds of wind turbines in northern Israel - Israel will move into a coal-free era of power production by the end of 2025, five years earlier than originally targeted.\n",
      "\"Stop Making a Killing at the Planet's Expense\": Climate Advocates Call for Fossil Fuel Companies to Foot Australia Fires Bill\n",
      "We can't afford another 'decade of disappointment' on climate change, warn activists | Global emissions are expected to hit an all-time high this year, and humanity is on track to cross the threshold for tolerable warming within a generation\n",
      "Bots and trolls spread false arson claims in Australian fires ‘disinformation campaign’ - Online posts exaggerating the role of arson are being used to undermine the link between bushfires and climate change, showing how disinformation with bots can threaten our future.\n",
      "Trump’s Latest Environmental Rollback Is a Middle Finger to Common Sense\n",
      "Trump Doesn’t Want Voters to Know How Much His Family’s Trips Cost Taxpayers\n",
      "India is soon projected to become the world’s most populous nation, with nearly 1.5 billion people. But behind that statistic lies a more complex reality: Population growth is leveling off in most areas due to rising affluence and advances in women’s education and family planning.\n",
      "Our pathetically slow shift to clean energy, in five charts\n",
      "Man survives bushfire hiding in pottery kiln as Australian town is almost wiped out\n",
      "Dehydrated koala approaches cyclist for help as Australian wildlife suffers in heatwave and fires. ‘It walked right up to me ... and climbed up onto my bike while I gave him water,’ says rider.\n",
      "Will Elon Musk’s Solar Panels Blanket America? They Probably Should. A single solar farm, large but contained to a single U.S. state, could produce enough energy to power the nation’s entire grid.\n",
      "Australian firefighters die as flames circle Sydney; prime minister cuts short holiday\n",
      "Water Thieves Steal 80,000 Gallons in Australia as Our Mad Max-Style Future Becomes Reality\n",
      "The Amazon Rainforest Is About To Cross An Irreversible Threshold That Will Turn It Into A Savanna, Top Scientists Say\n",
      "Scientists warn that if Amazon forest loss passes a certain threshold it could become a savanna.\n",
      "Indian supreme court suggests that the lifetime generation of oxygen must be factored into the computation of the value of a tree\n",
      "Australia is burning. The Arctic is melting. Yet Trump keeps gutting climate change regulations. | Eco Planet News\n",
      "Disinformation and lies are spreading faster than Australia's bushfires: Social media claims of an arson epidemic and obstructive environmentalists have infected mainstream reporting of the bushfire crisis.\n",
      "Russia's warm winter has deprived Moscow of snow, caused plants to bloom and roused bears out of hibernation\n",
      "Rising CO2 will lead to 50% reduced cognitive ability by 2100\n",
      "The Amazon lost the equivalent of 8.4 million soccer fields this decade due to deforestation\n",
      "Norway records warmest ever January day at 19C | The highest temperature of 19C was more than 25C above the monthly average. It also breaks the record for any winter month (December to February) in Scandinavia\n",
      "Amazon threatens to fire employees who speak out on climate change\n",
      "Bernie Sanders' economic adviser says Australia's bushfires are a climate change 'wake-up call,’ and Australia could ‘absolutely’ benefit from a program similar to the Green New Deal\n",
      "New Data Shows Solar Energy Creates More Jobs in America Than Any Other Industry\n",
      "As Australia Burns, Indonesia Drowns: Floods In Jakarta Kill Up To 53, Displace hundreds of thousands\n",
      "By generating more than US$1.3 trillion in annual revenue and employing approximately 9.5m people, US green economy growth dwarfs Donald Trump’s highest hopes for the fossil fuel industry.\n",
      "Finland is planning a four-day week. Is this the secret of happiness?:- Reduced working hours, as promised by the new Finnish PM, can boost productivity and cut carbon emissions. Here’s the evidence behind the idea\n",
      "Australian bushfire smoke affecting South America, UN reports\n",
      "Police contradict claims spread online exaggerating arson's role in Australian bushfires\n",
      "Britain's Queen Elizabeth II used her Christmas Day message Wednesday to pay tribute to young environmental campaigners who were inspired to global action by Swedish teen Greta Thunberg.\n",
      "As climate change melts Alaska’s permafrost, roads sink, bridges tilt and greenhouse gases release\n",
      "Shocking fall in groundwater levels Over 1,000 experts call for global action on 'depleting' groundwater\n",
      "The Australian bushfires are on the front page of newspapers all around the world - but not in Australia.\n",
      "Trump reportedly admitted impeachment played a big role in his Soleimani decision\n",
      "Australia’s fires have pumped out more emissions than 100 nations combined. Climate change is driving climate change.\n",
      "Millennials are the biggest — but poorest — generation\n",
      "Officials order 250,000 to evacuate in Australia near 'megafire'\n",
      "Leonardo DiCaprio's Environmental Organization Earth Alliance to Donate $3 Million for Australia Wildfire Relief\n",
      "“Please save your praise. We don’t want it,” Swedish Climate Activist Greta Thunberg told the USA Senate Climate Change Task Force. “Don’t invite us here to tell us how inspiring we are without doing anything about it because it doesn’t lead to anything.”\n",
      "General Motors, Ford among new funders of carbon tax push. The groups’ proposal would impose a $40-a-ton tax on CO2 emissions and cut U.S. carbon emissions in half by 2035.\n",
      "Venice canals almost dry, two months after severe floods\n",
      "Lab-grown food will soon destroy farming – and save the planet - Scientists are replacing crops and livestock with food made from microbes and water. It may save humanity’s bacon\n",
      "Australia bushfires are harbinger of planet’s future, say scientists — “We are not going to reverse climate change, so the conditions that are happening now will not go away. These weather patterns will keep happening. If climate change continues, they will get more severe.”\n",
      "As we enter the fourth year of the Trump era, let's remember: this is still not normal\n",
      "What does it mean to be \"too far left\" — and why are conservatives not scolded about centrism? | Only Democrats are expected to make important concessions to the increasingly irrelevant \"center\"\n",
      "The Green New Deal- Study: 'Researchers devised a plan for how 143 countries, which represent 99.7 percent of the world’s carbon emissions, could switch to clean energy. This plan would create nearly 30 million jobs, and it could save millions of lives per year just by reducing pollution.'\n",
      "Amazon threatens to fire employees who speak out on climate change\n",
      "The signal of human-caused climate change has emerged in everyday weather, study finds | For the 1st time, scientists have detected the “fingerprint” of human-induced climate change on daily weather patterns at a global scale. “Global mean temperature on a single day is already quite a bit shifted.\"\n",
      "Australia’s leaders deny link between climate change and the country’s devastating bushfires\n",
      "Industrial methane emissions are 100 times higher than reported, and have been vastly underestimated, finds a new study using a Google Street View car equipped with a high-precision methane sensor. They also were substantially higher than the EPA estimate for all industrial processes in the US.\n",
      "Greta Thunberg calls on Siemens to halt planned Australia coal mine\n",
      "[OC] Top 15 Countries by Carbon Dioxide (CO2) Emissions in 2018: by Emissions &amp; Emissions to GDP Ratio\n",
      "Trump now says climate change is ‘serious’ and not a ‘hoax’.\n",
      "Trump rails against windmills: 'I never understood wind'; Trump claims the production of wind turbines causes a large carbon footprint.\n",
      "Trump lashes out at windmills again, says they \"will kill many bald eagles\": \"I never understood wind\"\n",
      "Trump rails against windmills: 'I never understood wind'\n",
      "Dehydrated koala approaches cyclist for help as Australian wildlife suffers in heatwave and fires. ‘It walked right up to me ... and climbed up onto my bike while I gave him water,’ says rider\n",
      "‘Like a furnace’: Australia to see hottest day ever - with 50C forecast - as devastating bushfires rage | Prime minister Scott Morrison accused of ‘deafening silence’ over climate crisis as dangerous temperatures affect almost entire continent\n",
      "Global Mountain Gorilla population grows to 1,063. Last year, thanks to an increase in their numbers, the status of mountain gorillas was changed from Critically Endangered to Endangered by the IUCN.\n",
      "'Red Lights Flashing': Australia Smashes Heat Record Just a Day After Previous Record Hit. \"I think this is the single loudest alarm bell I've ever heard on global heating.\"\n",
      "Sanders: Instead of weapons funding we should pool resources to fight climate change - “Maybe, just maybe, instead of spending $1.8 trillion a year globally on weapons of destruction... maybe we pool our resources and fight our common enemy, which is climate change.”\n",
      "Long distance train tickets in Germany slashed by 10% to tackle climate crisis\n",
      "Trump reportedly admitted impeachment played a big role in his Soleimani decision\n",
      "Australia now has its first state run on 100 per cent renewable electricity\n",
      "Climate expert warns worst is yet to come with cyclones and floods predicted - As Australia continues to burn, a climate scientist has warned more extreme weather is on the way, bringing cyclones, floods and heatwaves.\n",
      "Petition for a second Wall-E movie to raise global warming awareness\n",
      "NASA images show wildfires have destroyed nearly one third of Australia's Kangaroo Island | NASA said one-third of the island, over 383,000 acres, shows burn scars and areas that are still burning\n",
      "Over 1 billion animals feared dead in Australian wildfires\n",
      "2019 was the second warmest year on record: Analysis\n",
      "It's official: 2019 was the second-hottest year on record\n",
      "Australia's Bushfires Have Burned an Area the Size of Vermont and New Hampshire Combined\n",
      "Virginia becomes the first state in the South to target 100% clean power\n",
      "A new tomato ideal for urban gardens and even outer space. When three specific genetic mutations are combined and tuned just right, scientists can turn tomato plants into extremely compact bushes ideal for urban agriculture.\n",
      "Greta Thunberg will interview environmentalist and broadcaster David Attenborough as part of a special BBC radio takeover to air on Monday.\n",
      "Australian Prime Minister Scott Morrison is facing pressure from within his own ranks to pay volunteer firefighters, as one Minister questions the sustainability of unpaid brigades working for months on end.\n",
      "Sanders: Instead of weapons funding we should pool resources to fight climate change - “Maybe, just maybe, instead of spending $1.8 trillion a year globally on weapons of destruction... maybe we pool our resources and fight our common enemy, which is climate change.”\n",
      "Captured carbon dioxide could be used to extract useful metals from recycled technology such as smartphone batteries rather than just being buried underground. The technique could help make it more economical to capture the greenhouse gas before it enters the atmosphere.\n",
      "Scientists have found that a worldwide Green New Deal would create nearly 30 million jobs. By 2050 the world will spend around $17 trillion per year on energy if we’re still relying on fossil fuels, and that number goes down to $6.8 trillion if we’re using renewable energy.\n",
      "Ditching coal in the US is saving lives, helping crops - Near shuttered plants, deaths drop and crop productivity rises.\n",
      "Greta Thunberg dismisses Meat Loaf's claims that she's 'brainwashed': 'It's all about scientific facts'\n",
      "Climate advocates are calling on fossil fuel companies to pay for the damage caused by Australia's unprecedented bushfires rather than taxpayers forking an additional $2 billion for those affected by the crisis.\n",
      "Scientists paint Australia fires as red alert on climate change | \"We totally expected that as the climate warmed, fires in Australia would get worse. But the scale of this disaster is something I couldn’t have imagined, and it’s the same for a lot of people in Australia.”\n",
      "Greta Thunberg Offers Advice to Young People, Dismisses Climate-Denying Politicians in BBC Radio Program. \"Be an active democratic citizen...because democracy is not only on election day, it's happening all the time.\"\n",
      "Goldman Sachs on Monday announced its plan to invest $750 billion over 10 years to fight climate change by funding sustainable development. Goldman Sachs plans to invest in five areas: clean energy, sustainable transportation, food and agriculture, waste and materials, and ecosystem services\n",
      "Record-breaking heatwave melts roads as temperatures hit over 120 degrees Fahrenheit in parts of Australia\n",
      "My favorite scientific discovery of 2019: \"A young (and unknown PhD student) paleontologist may have discovered a record of the most significant event in the history of life on earth\"\n",
      "“We’re the first generation to know that we are destroying the world and the last that can do something about it,” says WWF UK’s chief executive.\n",
      "Bears in Ukraine have started suffering from Insomnia because it’s too warm to hibernate\n",
      "‘It crushes me’: Dairy farmers struggle to survive Trump’s trade wars and declining milk demand\n",
      "Elderly woman dies after stepping off a plane in Australia's capital due to smoke from wildfires\n",
      "New Zealand schools to teach students about climate crisis, activism and 'eco anxiety' - Changes to the curriculum will put the country at the forefront of climate crisis education worldwide\n",
      "It's Not Just You—Wild Swings in Extreme Weather Are Rising\n",
      "24 Australians arrested for deliberately setting fires\n",
      "The UK, Australia, and US generally have the highest climate denial rates in the world. The big thing they have in common (aside from language) is a major Murdoch media presence\n",
      "Carbon dioxide in homes, offices, and classrooms could cut our capacity for complex, strategic thinking by 50% within 80 years, scientists warn\n",
      "Australia wildfires: Former PM Tony Abbott says world 'in grip of climate cult', as record temperatures fan deadly flames across country\n",
      "Greta Thunberg tells cheering crowd 'we will make sure we put world leaders against the wall' if they do not tackle global warming | 'The adults are behaving as if there is no tomorrow but there is a tomorrow, it is the tomorrow where our young people will live &amp; we have to fight for that tomorrow.\"\n",
      "Melania Trump Thinks Greta Thunberg Had POTUS Attack Coming | Apparently speaking out against climate change means the 16 year-old should expect to be mocked by world leaders.\n",
      "Europe threatens U.S. with carbon tariffs to combat climate change\n",
      "Ozone hole recovery will probably be delayed by banned gas from China, suggests a new study in Nature Communications. In the worst case, the recovery will be delayed by around 18 years if production of trichlorofluoromethane (CFC-11), used to make foam insulation in fridges, continues unabated.\n",
      "Australian bushfires: Sydney power under threat as fires destroy substations\n",
      "‘The tipping point is here, it is now,’ top Amazon scientists warn. “Current deforestation is substantial and frightening: 17% across the entire Amazon basin and approaching 20% in the Brazilian Amazon,”\n",
      "Humans Aren’t Inherently Destroying the Planet — Capitalism Is\n",
      "Asia-Pacific nations urge 'big brother' Australia to take lead on climate change\n",
      "Greta Thunberg: 'I wouldn't have wasted my time' with Trump meeting\n",
      "'Completely unsustainable': Modern computing is responsible for CO2 emissions on par with the aviation industry\n",
      "India suffers hottest decade on record | The last decade was India's hottest on record with the national weather office calling the impact of global warming \"unmistakable\" and extreme weather killing more than 1,500 people last year. \"The past year had extreme weather during all seasons.\"\n",
      "Actor Russell Crowe has used his winner's speech at the Golden Globes to raise awareness of the deadly bushfire crisis in Australia.\n",
      "Finland is considering a four-day week. Is this the secret of happiness?\n",
      "US Oil and Gas Industry's 5-Year Plan Is a Climate Nightmare. By 2025, oil and gas companies have plans to expand enough to release as much new greenhouse gas pollution as 50 new coal-fired power plants.\n",
      "‘I never understood wind’: Trump goes on bizarre tirade against windmills.\n",
      "Single-use plastic ban becomes law on Oahu: Mayor Kirk Caldwell on Sunday signed into law one of the nation’s strictest bans on plastics, which will prohibit all single-use plastic plates, bowls, cups and serv­ice ware on Oahu by 2022.\n",
      "US Denounced as 'Threat to Humanity' as COP25 Ends Without Deal on Big Polluters' Responsibility to Frontline Nations | \"This year the masses mobilized, but our political leaders refused to rise above their own little agendas.\"\n",
      "Greta Thunberg Slams COP25, Says Response to Climate Crisis Is “Clever Accounting and Creative PR”\n",
      "TeamTrees has achieved its goal of 20 million dollars, meaning that by December 2022, another 20 million trees will be planted to aid the environment!\n",
      "The Amazon Rainforest Is About To Cross An Irreversible Threshold That Will Turn It Into A Savanna, Top Scientists Say\n",
      "EU to unveil trillion-euro ‘Green Deal’ financial plan\n",
      "What would happen if the world reacted to climate change like it’s reacting to the coronavirus?\n",
      "Earth was stressed before dinosaur extinction - Fossilized seashells show signs of global warming, ocean acidification leading up to asteroid impact\n",
      "Australia Won’t Stop Burning. Though polls report that most Australians are concerned about climate change, the country’s government has so far been unable to pass pretty much any climate policy.\n",
      "U.S. greenhouse gas emissions fell by estimated 2.1% in 2019 due to coal decline\n",
      "New “bio-based hybrid foam” can absorb CO2 from the atmosphere more sustainably and cost-effectively, suggests new study, made by combining gelatin and cellulose with zeolites, minerals known for their absorbent properties. Researchers claim this new material is cheap and absorbs CO2 extremely well.\n",
      "Tens of thousands attend Sydneys CBD to fight the Australian governments denial on climate change.\n",
      "Senegal is constructing West Africa’s largest wind farm that will supply 158MW of electricity to 2 million people\n",
      "Germany cuts fares for long-distance rail travel in response to climate crisis\n"
     ]
    }
   ],
   "source": [
    "for i in austin_df[austin_df.win_pred_ever & austin_df.relevance_pred_ever].title:\n",
    "    print(i)"
   ]
  },
  {
   "cell_type": "code",
   "execution_count": 24,
   "metadata": {},
   "outputs": [
    {
     "data": {
      "text/plain": [
       "0.07459032773780976"
      ]
     },
     "execution_count": 24,
     "metadata": {},
     "output_type": "execute_result"
    }
   ],
   "source": [
    "4479 / 60048"
   ]
  },
  {
   "cell_type": "code",
   "execution_count": 23,
   "metadata": {},
   "outputs": [
    {
     "data": {
      "text/plain": [
       "False    60048\n",
       "True      4479\n",
       "Name: win_pred_ever, dtype: int64"
      ]
     },
     "execution_count": 23,
     "metadata": {},
     "output_type": "execute_result"
    }
   ],
   "source": [
    "austin_df.win_pred_ever.value_counts()"
   ]
  },
  {
   "cell_type": "markdown",
   "metadata": {},
   "source": [
    "**Seems like he's picking 7.5% that will be popular**\n",
    "\n",
    "And then looking at the ones that are about climate change takes it down to 0.5%"
   ]
  },
  {
   "cell_type": "code",
   "execution_count": 5,
   "metadata": {},
   "outputs": [
    {
     "data": {
      "text/plain": [
       "worldnews      32\n",
       "Futurology      4\n",
       "carbontax       4\n",
       "science         3\n",
       "environment     1\n",
       "Economics       1\n",
       "news            1\n",
       "videos          1\n",
       "Name: permalink, dtype: int64"
      ]
     },
     "execution_count": 5,
     "metadata": {},
     "output_type": "execute_result"
    }
   ],
   "source": [
    "austin_df[austin_df.ccl_comments_count > 0].permalink.map(lambda x: x.split('/')[2]).value_counts()"
   ]
  },
  {
   "cell_type": "code",
   "execution_count": 22,
   "metadata": {},
   "outputs": [
    {
     "data": {
      "text/plain": [
       "0    64480\n",
       "1       47\n",
       "Name: ccl_comments_count, dtype: int64"
      ]
     },
     "execution_count": 22,
     "metadata": {},
     "output_type": "execute_result"
    }
   ],
   "source": [
    "austin_df.ccl_comments_count.value_counts()"
   ]
  },
  {
   "cell_type": "code",
   "execution_count": null,
   "metadata": {},
   "outputs": [],
   "source": []
  }
 ],
 "metadata": {
  "kernelspec": {
   "display_name": "Python [conda env:metis] *",
   "language": "python",
   "name": "conda-env-metis-py"
  },
  "language_info": {
   "codemirror_mode": {
    "name": "ipython",
    "version": 3
   },
   "file_extension": ".py",
   "mimetype": "text/x-python",
   "name": "python",
   "nbconvert_exporter": "python",
   "pygments_lexer": "ipython3",
   "version": "3.7.4"
  },
  "toc": {
   "base_numbering": 1,
   "nav_menu": {},
   "number_sections": true,
   "sideBar": true,
   "skip_h1_title": false,
   "title_cell": "Table of Contents",
   "title_sidebar": "Contents",
   "toc_cell": false,
   "toc_position": {},
   "toc_section_display": true,
   "toc_window_display": false
  }
 },
 "nbformat": 4,
 "nbformat_minor": 4
}
